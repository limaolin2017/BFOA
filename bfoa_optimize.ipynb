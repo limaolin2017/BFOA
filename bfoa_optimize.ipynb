{
 "cells": [
  {
   "cell_type": "code",
   "execution_count": null,
   "metadata": {
    "vscode": {
     "languageId": "plaintext"
    }
   },
   "outputs": [],
   "source": [
    "import numpy as np\n",
    "import random\n",
    "from operator import itemgetter\n",
    "\n",
    "def bfoa_optimize(func, area, cells=100, steps=50, death_chance=0.2, step_reduction=0.95):\n",
    "    # 初始化细菌种群\n",
    "    cell = [[random.uniform(area[0], area[1]), random.uniform(area[2], area[3]), 0, 0, 0, func(random.uniform(area[0], area[1]), random.uniform(area[2], area[3]))] for _ in range(cells)]\n",
    "    step_length = (area[1] - area[0] + area[3] - area[2]) / 20\n",
    "    \n",
    "    # 进行迭代优化\n",
    "    for i in range(steps):\n",
    "        curr_length = step_length * (step_reduction ** i)  # 逐步减小步长\n",
    "        for j in cell:\n",
    "            angle = random.uniform(0, 2 * np.pi)\n",
    "            dx, dy = curr_length * np.cos(angle), curr_length * np.sin(angle)\n",
    "            new_x, new_y = j[0] + dx, j[1] + dy\n",
    "            new_fitness = func(new_x, new_y)\n",
    "            if new_fitness < j[5]:\n",
    "                j[0], j[1], j[5] = new_x, new_y, new_fitness\n",
    "            else:\n",
    "                j[2] = angle\n",
    "\n",
    "        # \n",
    "        cell.sort(key=itemgetter(5))\n",
    "        for n in range(cells // 2, cells):\n",
    "            cell[n][0], cell[n][1], cell[n][5] = cell[n - cells // 2][0], cell[n - cells // 2][1], cell[n - cells // 2][5]\n",
    "\n",
    "        # 消除与扩散\n",
    "        for n in range(int(cells * death_chance)):\n",
    "            index = random.randint(0, cells - 1)\n",
    "            cell[index][0], cell[index][1] = random.uniform(area[0], area[1]), random.uniform(area[2], area[3])\n",
    "            cell[index][5] = func(cell[index][0], cell[index][1])\n",
    "\n",
    "    # 获取并返回最佳解\n",
    "    best_bacterium = min(cell, key=itemgetter(5))\n",
    "    return best_bacterium[0], best_bacterium[1], best_bacterium[5]"
   ]
  },
  {
   "cell_type": "code",
   "execution_count": null,
   "metadata": {
    "vscode": {
     "languageId": "plaintext"
    }
   },
   "outputs": [],
   "source": [
    "# 定义要优化的函数\n",
    "def rastrigin_function(x, y):\n",
    "    return 20 + x**2 + y**2 - 10 * (np.cos(2 * np.pi * x) + np.cos(2 * np.pi * y))\n",
    "\n",
    "def ackley_function(x, y):\n",
    "    a = 20\n",
    "    b = 0.2\n",
    "    c = 2 * np.pi\n",
    "    sum1 = x**2 + y**2\n",
    "    sum2 = np.cos(c * x) + np.cos(c * y)\n",
    "    n = 2\n",
    "    return -a * np.exp(-b * np.sqrt(sum1 / n)) - np.exp(sum2 / n) + a + np.exp(1)\n",
    "\n",
    "def booth_function(x, y):\n",
    "    return (x + 2*y - 7)**2 + (2*x + y - 5)**2\n",
    "\n",
    "def levi_function(x, y):\n",
    "    return np.sin(3 * np.pi * x)**2 + (x - 1)**2 * (1 + np.sin(3 * np.pi * y)**2) + (y - 1)**2 * (1 + np.sin(2 * np.pi * y)**2)\n",
    "\n",
    "def easom_function(x, y):\n",
    "    return -np.cos(x) * np.cos(y) * np.exp(-((x - np.pi)**2 + (y - np.pi)**2))\n",
    "\n",
    "def schwefel_function(x, y):\n",
    "    return 418.9829 * 2 - x * np.sin(np.sqrt(abs(x))) - y * np.sin(np.sqrt(abs(y)))\n",
    "\n",
    "def himmelblau_function(x, y):\n",
    "    return (x**2 + y - 11)**2 + (x + y**2 - 7)**2\n",
    "\n",
    "\n",
    "# 对Rastrigin函数进行测试\n",
    "best_x, best_y, best_fitness = bfoa_optimize(rastrigin_function, [-5, 5, -5, 5], cells=100, steps=100, death_chance=0.1)\n",
    "print(f\"Rastrigin Function - Best position: ({best_x}, {best_y}) with fitness: {best_fitness}\")\n",
    "\n",
    "# 对Ackley函数进行测试\n",
    "best_x, best_y, best_fitness = bfoa_optimize(ackley_function, [-5, 5, -5, 5], cells=100, steps=100, death_chance=0.1)\n",
    "print(f\"Ackley Function - Best position: ({best_x}, {best_y}) with fitness: {best_fitness}\")\n",
    "\n",
    "# 对Booth函数进行测试\n",
    "best_x, best_y, best_fitness = bfoa_optimize(booth_function, [-10, 10, -10, 10], cells=100, steps=100, death_chance=0.1)\n",
    "print(f\"Booth Function - Best position: ({best_x}, {best_y}) with fitness: {best_fitness}\")\n",
    "\n",
    "# 对Levi函数进行测试\n",
    "best_x, best_y, best_fitness = bfoa_optimize(levi_function, [-10, 10, -10, 10], cells=100, steps=100, death_chance=0.1)\n",
    "print(f\"Levi Function - Best position: ({best_x}, {best_y}) with fitness: {best_fitness}\")\n",
    "\n",
    "# 对Easom函数进行测试\n",
    "best_x, best_y, best_fitness = bfoa_optimize(easom_function, [-10, 10, -10, 10], cells=100, steps=100, death_chance=0.1)\n",
    "print(f\"Easom Function - Best position: ({best_x}, {best_y}) with fitness: {best_fitness}\")\n",
    "\n",
    "# Schwefel 函数测试\n",
    "best_x, best_y, best_fitness = bfoa_optimize(schwefel_function, [-500, 500, -500, 500], cells=100, steps=200, death_chance=0.1)\n",
    "print(f\"Schwefel Function - Best position: ({best_x}, {best_y}) with fitness: {best_fitness}\")\n",
    "\n",
    "# Himmelblau 函数测试\n",
    "best_x, best_y, best_fitness = bfoa_optimize(himmelblau_function, [-5, 5, -5, 5], cells=100, steps=200, death_chance=0.1)\n",
    "print(f\"Himmelblau Function - Best position: ({best_x}, {best_y}) with fitness: {best_fitness}\")\n"
   ]
  }
 ],
 "metadata": {
  "language_info": {
   "name": "python"
  }
 },
 "nbformat": 4,
 "nbformat_minor": 2
}
